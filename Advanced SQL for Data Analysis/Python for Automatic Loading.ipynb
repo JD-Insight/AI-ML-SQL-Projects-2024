{
 "cells": [
  {
   "cell_type": "markdown",
   "id": "8cfba33f",
   "metadata": {},
   "source": [
    "# Inserting Data in SQL Database using Python"
   ]
  },
  {
   "cell_type": "markdown",
   "id": "2a87dbc3",
   "metadata": {},
   "source": [
    "This guide demonstrates how to read data from a CSV file and insert it into a MySQL database using Python. This is ideal for database automation, data cleaning tasks, or quick ingestion of structured datasets."
   ]
  },
  {
   "cell_type": "markdown",
   "id": "b9542956",
   "metadata": {},
   "source": [
    "# Prerequisites"
   ]
  },
  {
   "cell_type": "markdown",
   "id": "de32ccbd",
   "metadata": {},
   "source": [
    "- Python 3.x installed\n",
    "- MySQL server"
   ]
  },
  {
   "cell_type": "code",
   "execution_count": null,
   "id": "d4bf59fe",
   "metadata": {},
   "outputs": [],
   "source": [
    "import pandas as pd\n",
    "import mysql.connector"
   ]
  },
  {
   "cell_type": "code",
   "execution_count": null,
   "id": "6d796aa0",
   "metadata": {},
   "outputs": [],
   "source": [
    "#Accept MySQL credentials and database name\n",
    "sql_host = input(\"Enter MySQL host (default: localhost): \") or \"localhost\"\n",
    "sql_user = input(\"Enter MySQL username: \")\n",
    "sql_pwd = input(\"Enter MySQL password: \")\n",
    "database_name = input(\"Enter database name to Create/Use: \")\n",
    "\n",
    "#Connect to MySQL server\n",
    "conn = mysql.connector.connect(\n",
    "    host=sql_host,\n",
    "    user=sql_user,\n",
    "    password=sql_pwd\n",
    ")\n",
    "cursor = conn.cursor()\n",
    "\n",
    "#Create database if it doesn't exist\n",
    "cursor.execute(f\"CREATE DATABASE IF NOT EXISTS {database_name}\")\n",
    "print(f\"Database '{database_name}' is ready.\")\n",
    "\n",
    "#Reconnect to the newly created database\n",
    "conn.database = database_name\n",
    "\n",
    "#Create table if not exists\n",
    "cursor.execute(\"\"\"\n",
    "CREATE TABLE IF NOT EXISTS EMPLOYEES (\n",
    "Age INT,\n",
    "Attrition BOOLEAN,\n",
    "BusinessTravel VARCHAR(20),\n",
    "DailyRate INT,\n",
    "Department VARCHAR(100),\n",
    "DistanceFromHome INT,\n",
    "Education INT,\n",
    "EducationField VARCHAR(100),\n",
    "EmployeeCount INT,\n",
    "EmployeeNumber INT,\n",
    "EnvironmentSatisfaction INT,\n",
    "Gender VARCHAR(10),\n",
    "HourlyRate INT,\n",
    "JobInvolvement INT,\n",
    "JobLevel INT,\n",
    "JobRole VARCHAR(100),\n",
    "JobSatisfaction INT,\n",
    "MaritalStatus VARCHAR(20),\n",
    "MonthlyIncome INT,\n",
    "MonthlyRate INT, \n",
    "NumCompaniesWorked INT,\n",
    "Over18 VARCHAR(5),\n",
    "OverTime BOOLEAN,\n",
    "PercentSalaryHike INT,\n",
    "PerformanceRating INT,\n",
    "RelationshipSatisfaction INT,\n",
    "StandardHours INT,\n",
    "StockOptionLevel INT,\n",
    "TotalWorkingYears INT,\n",
    "TrainingTimesLastYear INT,\n",
    "WorkLifeBalance INT,\n",
    "YearsAtCompany INT,\n",
    "YearsInCurrentRole INT,\n",
    "YearsSinceLastPromotion INT,\n",
    "YearsWithCurrManager INT,\n",
    ")\n",
    "\"\"\")\n",
    "\n",
    "#Load dataset\n",
    "df = pd.read_csv(\"Employee Details.csv\")\n",
    "\n",
    "#Insert data\n",
    "for _, row in df.iterrows():\n",
    "    sql = \"\"\"\n",
    "    INSERT INTO employees VALUES (%s, %s, %s, %s, %s, %s, %s, %s, %s, %s, %s, %s, %s, %s, %s, %s, %s, %s, %s, %s, %s, %s, %s, %s, %s, %s, %s, %s, %s, %s, %s, %s, %s, %s, %s, %s)\n",
    "    \"\"\"\n",
    "    cursor.execute(sql, tuple(row))\n",
    "conn.commit()\n",
    "cursor.close()\n",
    "conn.close()\n",
    "print(\"Data inserted successfully.\")"
   ]
  },
  {
   "cell_type": "code",
   "execution_count": null,
   "id": "b84a3ae8",
   "metadata": {},
   "outputs": [],
   "source": []
  }
 ],
 "metadata": {
  "kernelspec": {
   "display_name": "Python 3 (ipykernel)",
   "language": "python",
   "name": "python3"
  },
  "language_info": {
   "codemirror_mode": {
    "name": "ipython",
    "version": 3
   },
   "file_extension": ".py",
   "mimetype": "text/x-python",
   "name": "python",
   "nbconvert_exporter": "python",
   "pygments_lexer": "ipython3",
   "version": "3.11.4"
  }
 },
 "nbformat": 4,
 "nbformat_minor": 5
}
