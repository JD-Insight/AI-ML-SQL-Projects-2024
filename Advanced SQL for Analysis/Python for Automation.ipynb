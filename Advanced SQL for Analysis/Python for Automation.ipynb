{
 "cells": [
  {
   "cell_type": "markdown",
   "id": "09fe8abd",
   "metadata": {},
   "source": [
    "# Inserting Data in SQL Database using Python"
   ]
  },
  {
   "cell_type": "markdown",
   "id": "d2ba5d1d",
   "metadata": {},
   "source": [
    "This guide demonstrates how to read data from a CSV file and insert it into a PostgreSQL database using Python. This is ideal for database automation, data cleaning tasks, or quick ingestion of structured datasets."
   ]
  },
  {
   "cell_type": "markdown",
   "id": "40f72d0c",
   "metadata": {},
   "source": [
    "# Prerequisites"
   ]
  },
  {
   "cell_type": "markdown",
   "id": "0ed9caef",
   "metadata": {},
   "source": [
    "- Python 3.x installed\n",
    "- pgAdmin4 (PostgreSQL database)"
   ]
  },
  {
   "cell_type": "code",
   "execution_count": 2,
   "id": "3c0d26ef",
   "metadata": {},
   "outputs": [
    {
     "name": "stdout",
     "output_type": "stream",
     "text": [
      "Collecting psycopg2-binary\n",
      "  Obtaining dependency information for psycopg2-binary from https://files.pythonhosted.org/packages/61/69/3b3d7bd583c6d3cbe5100802efa5beacaacc86e37b653fc708bf3d6853b8/psycopg2_binary-2.9.10-cp311-cp311-win_amd64.whl.metadata\n",
      "  Downloading psycopg2_binary-2.9.10-cp311-cp311-win_amd64.whl.metadata (5.0 kB)\n",
      "Downloading psycopg2_binary-2.9.10-cp311-cp311-win_amd64.whl (1.2 MB)\n",
      "   ---------------------------------------- 0.0/1.2 MB ? eta -:--:--\n",
      "   ------- -------------------------------- 0.2/1.2 MB 4.6 MB/s eta 0:00:01\n",
      "   ---------------- ----------------------- 0.5/1.2 MB 5.0 MB/s eta 0:00:01\n",
      "   -------------------------- ------------- 0.8/1.2 MB 5.5 MB/s eta 0:00:01\n",
      "   ------------------------------------ --- 1.1/1.2 MB 5.7 MB/s eta 0:00:01\n",
      "   ---------------------------------------- 1.2/1.2 MB 5.3 MB/s eta 0:00:00\n",
      "Installing collected packages: psycopg2-binary\n",
      "Successfully installed psycopg2-binary-2.9.10\n",
      "Note: you may need to restart the kernel to use updated packages.\n"
     ]
    }
   ],
   "source": [
    "pip install psycopg2-binary"
   ]
  },
  {
   "cell_type": "code",
   "execution_count": 1,
   "id": "646fe9dd",
   "metadata": {},
   "outputs": [],
   "source": [
    "import pandas as pd\n",
    "from sqlalchemy import create_engine\n",
    "import getpass"
   ]
  },
  {
   "cell_type": "code",
   "execution_count": 4,
   "id": "99259869",
   "metadata": {},
   "outputs": [
    {
     "name": "stdout",
     "output_type": "stream",
     "text": [
      "Enter PostgreSQL database name: employees\n",
      "Enter schema name (leave blank for default 'public'): employees\n",
      "Enter destination table name: emp_comp\n",
      "Enter full path with CSV file: C:\\Users\\Home\\Downloads\\Compensation Details.csv\n",
      "Enter database username: postgres\n",
      "Enter database password: ········\n",
      "Enter database host (default: localhost): localhost\n",
      "Enter database port (default: 5432): 5432\n",
      "If table exists, choose 'fail', 'replace', or 'append' (default: append): append\n",
      "CSV loaded successfully. Rows: 1470 Columns: 18\n",
      "Data loaded into PostgreSQL table 'employees.emp_comp' using 'append' mode.\n"
     ]
    }
   ],
   "source": [
    "def load_csv_to_postgres():\n",
    "    # Get dynamic user inputs\n",
    "    db_name = input(\"Enter PostgreSQL database name: \").strip()\n",
    "    schema_name = input(\"Enter schema name (leave blank for default 'public'): \").strip() or None\n",
    "    table_name = input(\"Enter destination table name: \").strip()\n",
    "    csv_path = input(\"Enter full path with CSV file: \").strip()\n",
    "    db_user = input(\"Enter database username: \").strip()\n",
    "    db_pass = getpass.getpass(\"Enter database password: \")\n",
    "    db_host = input(\"Enter database host (default: localhost): \").strip() or 'localhost'\n",
    "    db_port = input(\"Enter database port (default: 5432): \").strip() or '5432'\n",
    "    if_exists_option = input(\"If table exists, choose 'fail', 'replace', or 'append' (default: append): \").strip() or 'append'\n",
    "    \n",
    "    #Load CSV\n",
    "    try:\n",
    "        df = pd.read_csv(csv_path)\n",
    "        print(f\"CSV loaded successfully. Rows: {len(df)} Columns: {len(df.columns)}\")\n",
    "    except Exception as e:\n",
    "        print(f\"Error reading CSV: {e}\")\n",
    "        return\n",
    "    \n",
    "    #Create SQLAlchemy Engine and Load to PostgreSQL\n",
    "    try:\n",
    "        engine = create_engine(f'postgresql+psycopg2://{db_user}:{db_pass}@{db_host}:{db_port}/{db_name}')\n",
    "        df.to_sql(table_name, engine, if_exists=if_exists_option, index=False, schema=schema_name)\n",
    "        schema_display = schema_name if schema_name else 'public'\n",
    "        print(f\"Data loaded into PostgreSQL table '{schema_display}.{table_name}' using '{if_exists_option}' mode.\")\n",
    "    except Exception as e:\n",
    "        print(f\"Error writing to PostgreSQL: {e}\")\n",
    "\n",
    "if __name__ == \"__main__\":\n",
    "    load_csv_to_postgres()"
   ]
  },
  {
   "cell_type": "code",
   "execution_count": null,
   "id": "75dbddb3",
   "metadata": {},
   "outputs": [],
   "source": []
  }
 ],
 "metadata": {
  "kernelspec": {
   "display_name": "Python 3 (ipykernel)",
   "language": "python",
   "name": "python3"
  },
  "language_info": {
   "codemirror_mode": {
    "name": "ipython",
    "version": 3
   },
   "file_extension": ".py",
   "mimetype": "text/x-python",
   "name": "python",
   "nbconvert_exporter": "python",
   "pygments_lexer": "ipython3",
   "version": "3.11.4"
  }
 },
 "nbformat": 4,
 "nbformat_minor": 5
}
